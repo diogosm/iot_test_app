{
  "nbformat": 4,
  "nbformat_minor": 0,
  "metadata": {
    "colab": {
      "provenance": []
    },
    "kernelspec": {
      "name": "python3",
      "display_name": "Python 3"
    },
    "language_info": {
      "name": "python"
    }
  },
  "cells": [
    {
      "cell_type": "code",
      "execution_count": 15,
      "metadata": {
        "id": "oJ10tT3ZP5IY"
      },
      "outputs": [],
      "source": [
        "import sqlite3\n",
        "import time\n",
        "\n",
        "conn = sqlite3.connect('data.db')\n",
        "curs = conn.cursor()\n",
        "\n",
        "# apaga pra recomeçar se precisar\n",
        "'''\n",
        "cursor.execute(\"\"\"\n",
        "DROP TABLE data;\n",
        "\"\"\")\n",
        "'''\n",
        "\n",
        "# criando a tabela - se precisar de mais dados, add na estrutura\n",
        "curs.execute(\"\"\"\n",
        "CREATE TABLE IF NOT EXISTS data (\n",
        "  ID_DATA INTEGER NOT NULL PRIMARY KEY AUTOINCREMENT,\n",
        "  END_DEVICE_NAME TEXT NOT NULL,\n",
        "  PH_VALUE REAL,\n",
        "  TEMP_VALUE REAL,\n",
        "  DATE_CREATED DATE NOT NULL\n",
        ");\n",
        "\"\"\")\n",
        "\n",
        "conn.close()"
      ]
    },
    {
      "cell_type": "code",
      "source": [
        "conn = sqlite3.connect('data.db')\n",
        "curs = conn.cursor()\n",
        "\n",
        "# inserindo dados na tabela\n",
        "# @TODO => mandar dados em loop e reais.\n",
        "#   testar enviar datas\n",
        "curs.execute(\"\"\"\n",
        "INSERT INTO data (END_DEVICE_NAME, PH_VALUE, TEMP_VALUE, DATE_CREATED)\n",
        "VALUES ('END_DEVICE_01', 7.0, 28.0, datetime('now'))\n",
        "\"\"\")\n",
        "\n",
        "time.sleep(5)\n",
        "\n",
        "curs.execute(\"\"\"\n",
        "INSERT INTO data (END_DEVICE_NAME, PH_VALUE, TEMP_VALUE, DATE_CREATED)\n",
        "VALUES ('END_DEVICE_02', 7.0, 28.0, datetime('now'))\n",
        "\"\"\")\n",
        "\n",
        "conn.commit()\n",
        "\n",
        "conn.close()"
      ],
      "metadata": {
        "id": "h6PXOMygTIOo"
      },
      "execution_count": 16,
      "outputs": []
    },
    {
      "cell_type": "code",
      "source": [
        "conn = sqlite3.connect('data.db')\n",
        "curs = conn.cursor()\n",
        "\n",
        "# lendo os dados\n",
        "curs.execute(\"\"\"\n",
        "SELECT * FROM data;\n",
        "\"\"\")\n",
        "\n",
        "for linha in curs.fetchall():\n",
        "    print(linha)\n",
        "\n",
        "# lendo os dados de um device só\n",
        "print('\\nprintando uma query...\\n')\n",
        "devName = 'END_DEVICE_01'\n",
        "curs.execute(\"\"\"\n",
        "SELECT * FROM data where END_DEVICE_NAME = '%s';\n",
        "\"\"\" % devName)\n",
        "\n",
        "for linha in curs.fetchall():\n",
        "    print(linha)\n",
        "\n",
        "conn.close()"
      ],
      "metadata": {
        "colab": {
          "base_uri": "https://localhost:8080/"
        },
        "id": "9TpheekkS9lD",
        "outputId": "d2e5fe3b-d084-4d59-b001-ea31951c3453"
      },
      "execution_count": 17,
      "outputs": [
        {
          "output_type": "stream",
          "name": "stdout",
          "text": [
            "(1, 'END_DEVICE_01', 7.0, 28.0, '2023-02-10 03:18:39')\n",
            "(2, 'END_DEVICE_02', 7.0, 28.0, '2023-02-10 03:18:39')\n",
            "(3, 'END_DEVICE_01', 7.0, 28.0, '2023-02-10 03:21:40')\n",
            "(4, 'END_DEVICE_02', 7.0, 28.0, '2023-02-10 03:21:45')\n",
            "\n",
            "printando uma query...\n",
            "\n",
            "(1, 'END_DEVICE_01', 7.0, 28.0, '2023-02-10 03:18:39')\n",
            "(3, 'END_DEVICE_01', 7.0, 28.0, '2023-02-10 03:21:40')\n"
          ]
        }
      ]
    }
  ]
}